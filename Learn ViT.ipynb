{
 "cells": [
  {
   "cell_type": "code",
   "execution_count": null,
   "metadata": {},
   "outputs": [],
   "source": [
    "import torch\n",
    "from torch import nn\n",
    "import torchvision\n",
    "import torchvision.transforms as T\n",
    "\n",
    "import matplotlib.pyplot as plt\n",
    "import seaborn as sns\n",
    "\n",
    "from torchvision import datasets\n",
    "from torch.utils.data import DataLoader, Dataset\n",
    "from pathlib import Path\n",
    "\n",
    "import numpy as np\n",
    "\n",
    "device = \"cuda\""
   ]
  },
  {
   "cell_type": "code",
   "execution_count": null,
   "metadata": {},
   "outputs": [],
   "source": [
    "%matplotlib inline"
   ]
  },
  {
   "cell_type": "code",
   "execution_count": null,
   "metadata": {},
   "outputs": [],
   "source": [
    "!pip install gdown\n",
    "!pip install scipy"
   ]
  },
  {
   "attachments": {},
   "cell_type": "markdown",
   "metadata": {},
   "source": [
    "# We are going to use the Calthech101 dataset"
   ]
  },
  {
   "cell_type": "code",
   "execution_count": null,
   "metadata": {},
   "outputs": [],
   "source": [
    "input_transform = T.Compose([\n",
    "    T.Resize((224, 224)),\n",
    "    T.ToTensor(),\n",
    "])\n",
    "\n",
    "dataset = torchvision.datasets.Caltech101(root=Path.cwd(), \n",
    "                                          target_type = 'category', \n",
    "                                          transform = input_transform, \n",
    "                                          target_transform = None, \n",
    "                                          download= True)\n",
    "\n",
    "dataloader = DataLoader(dataset, batch_size=32)\n",
    "\n"
   ]
  },
  {
   "cell_type": "code",
   "execution_count": null,
   "metadata": {},
   "outputs": [],
   "source": [
    "indexes = np.random.randint(0, len(dataset), (3,3))\n",
    "\n",
    "fig, axes = plt.subplots(3,3)\n",
    "\n",
    "for i in range(3):\n",
    "    for j in range(3):\n",
    "        img, _ = dataset[indexes[i,j]]\n",
    "        axes[i,j].imshow(img.permute(1,2,0))\n",
    "\n",
    "# Dataset presentation : \n",
    "print(f\"the dataset includes {len(dataset)} samples\")"
   ]
  },
  {
   "attachments": {},
   "cell_type": "markdown",
   "metadata": {},
   "source": [
    "# Model creation"
   ]
  },
  {
   "cell_type": "code",
   "execution_count": null,
   "metadata": {},
   "outputs": [],
   "source": [
    "D_h = 768\n",
    "N = 100\n",
    "\n",
    "z = torch.randn((N, D_h))"
   ]
  },
  {
   "cell_type": "code",
   "execution_count": null,
   "metadata": {},
   "outputs": [],
   "source": [
    "z.shape"
   ]
  },
  {
   "cell_type": "code",
   "execution_count": null,
   "metadata": {},
   "outputs": [],
   "source": [
    "class SelfAttention(nn.Module):\n",
    "    def __init__(self, D_input, D_h):\n",
    "        super().__init__()\n",
    "        self.D_h = D_h\n",
    "        self.D_input=D_input\n",
    "\n",
    "        self.q_mat = nn.Linear(in_features=self.D_input, out_features=self.D_h, bias=None)\n",
    "        self.k_mat = nn.Linear(in_features=self.D_input, out_features=self.D_h, bias=None)\n",
    "        self.v_mat = nn.Linear(in_features=self.D_input, out_features=self.D_h, bias=None)\n",
    "    \n",
    "    def forward(self, z):\n",
    "        q, k, v = self.q_mat(z), self.k_mat(z), self.v_mat(z)\n",
    "        A = torch.softmax(torch.matmul(q, torch.transpose(k, 1, 0)) / torch.sqrt(torch.tensor(self.D_h)), axis=1)\n",
    "        return torch.matmul(A, v)\n",
    "        \n",
    "\n",
    "class MSA(nn.Module):\n",
    "    def __init__(self, D_input, k):\n",
    "        super().__init__()\n",
    "        self.k = k\n",
    "        self.D_input = D_input\n",
    "        self.D_h = D_input//k\n",
    "\n",
    "        self.attentions = [SelfAttention(self.D_h, self.D_h) for i in range(k)]\n",
    "        self.unification_matrix = nn.Linear(self.D_input, self.D_input, bias=None)\n",
    "    \n",
    "    def forward(self, z):\n",
    "        vectors = torch.split(z, split_size_or_sections=self.D_h, dim=1)\n",
    "        MSA = torch.cat([self.attentions[i](vectors[i]) for i in range(self.k)], dim=1)\n",
    "        return self.unification_matrix(MSA)\n",
    "\n",
    "class MLP(nn.Module):\n",
    "    def __init__(self, embedding_dim, mlp_size, dropout=0.1):\n",
    "        super().__init__()\n",
    "        self.embedding_dim = embedding_dim\n",
    "        self.mlp_size = mlp_size\n",
    "        \n",
    "        self.block = nn.Sequential(nn.LayerNorm(),\n",
    "                        nn.Linear(in_features=embedding_dim, out_features=mlp_size),\n",
    "                        nn.GELU(),\n",
    "                        nn.Dropout(0.1),\n",
    "                        nn.Linear(in_features=mlp_size, embedding_dim),\n",
    "                        nn.Dropout(0.1))\n",
    "\n",
    "    def forward(self, z):\n",
    "        return self.block(z)\n",
    "\n"
   ]
  },
  {
   "cell_type": "code",
   "execution_count": null,
   "metadata": {},
   "outputs": [],
   "source": [
    "SA = SelfAttention(D_h, D_h)\n",
    "SA(z).shape\n",
    "\n",
    "msa = MSA(D_input=D_h, k=16)\n",
    "output_attention = msa.forward(z)\n",
    "print(output_attention.shape)"
   ]
  },
  {
   "cell_type": "code",
   "execution_count": null,
   "metadata": {},
   "outputs": [],
   "source": [
    "for x in torch.split(z, split_size_or_sections=D_h, dim=1):\n",
    "    print(x.shape)"
   ]
  },
  {
   "cell_type": "code",
   "execution_count": null,
   "metadata": {},
   "outputs": [],
   "source": [
    "class Encoder(nn.Module):\n",
    "        def __init__(self, ):\n",
    "        pass\n",
    "    \n",
    "    def forward(self, x):\n",
    "        pass\n"
   ]
  },
  {
   "cell_type": "code",
   "execution_count": null,
   "metadata": {},
   "outputs": [],
   "source": []
  }
 ],
 "metadata": {
  "kernelspec": {
   "display_name": "Natixis",
   "language": "python",
   "name": "python3"
  },
  "language_info": {
   "codemirror_mode": {
    "name": "ipython",
    "version": 3
   },
   "file_extension": ".py",
   "mimetype": "text/x-python",
   "name": "python",
   "nbconvert_exporter": "python",
   "pygments_lexer": "ipython3",
   "version": "3.12.3"
  }
 },
 "nbformat": 4,
 "nbformat_minor": 2
}
